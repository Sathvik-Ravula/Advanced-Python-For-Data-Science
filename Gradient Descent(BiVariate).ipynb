{
 "cells": [
  {
   "cell_type": "markdown",
   "id": "a24b58d9",
   "metadata": {},
   "source": [
    "# Gradient Descent (BiVariate)\n",
    "*****By Saideva Sathvik.R, IMSc. DataScience & Computing, SSSIHL*****"
   ]
  },
  {
   "cell_type": "code",
   "execution_count": null,
   "id": "1c1a1027",
   "metadata": {},
   "outputs": [
    {
     "name": "stdout",
     "output_type": "stream",
     "text": [
      "Enter Initial Point 1 (x1) :1\n",
      "Enter Initial Point 2 (x2) :1\n"
     ]
    }
   ],
   "source": [
    "import numpy as np\n",
    "\n",
    "def f(ip):\n",
    "    #return 4*(ip[0])**2-4*ip[0]*ip[1]+2*(ip[1])**2\n",
    "     return -(4*ip[0]+6*ip[1]-2*(ip[0])**2-2*ip[0]*ip[1]-2*(ip[1])**2)\n",
    "\n",
    "def gradf(ip):\n",
    "   #return np.array([4-4*ip[0]-2*ip[1], 6-2*ip[0]-4*ip[1]])\n",
    "    return np.array([-4+4*ip[0]+2*ip[1], -6+2*ip[0]+4*ip[1]])\n",
    "\n",
    "ip1 = float(input(\"Enter Initial Point 1 (x1) :\"))\n",
    "ip2 = float(input(\"Enter Initial Point 2 (x2) :\"))\n",
    "\n",
    "ip = np.array([ip1,ip2])\n",
    "\n",
    "step = float(input(\"Enter Step Size (rk) :\"))\n",
    "itr = int(input(\"Enter no. of iterations :\"))\n",
    "n = itr\n",
    "\n",
    "x1 = np.array([0,0])\n",
    "err = np.array([0.0000,0.0000])\n",
    "\n",
    "while(itr):\n",
    "    \n",
    "    if(not np.allclose(gradf(ip), err, rtol=0.01, atol=0.01, equal_nan=False)):\n",
    "        print(\"\\nIteration\",abs(itr-n))\n",
    "        print(f\"Grad f at x1={ip[0]} and x2={ip[1]} is : {gradf(ip)}\\n\")\n",
    "        x1 = ip - step*gradf(ip)\n",
    "        #print(\"x1 at itr\",abs(itr-n),x1)\n",
    "        ip = x1\n",
    "        itr = itr-1\n",
    "        \n",
    "    else:\n",
    "        break\n",
    "\n",
    "        \n",
    "print(\"\\nAfter Gradient Descent :\\n\")\n",
    "print(\"Critical Points(X*) :\",ip)\n",
    "print(\"\\n f(X*) = \",f(ip))\n"
   ]
  },
  {
   "cell_type": "code",
   "execution_count": null,
   "id": "b713836e",
   "metadata": {},
   "outputs": [],
   "source": []
  }
 ],
 "metadata": {
  "kernelspec": {
   "display_name": "Python 3 (ipykernel)",
   "language": "python",
   "name": "python3"
  },
  "language_info": {
   "codemirror_mode": {
    "name": "ipython",
    "version": 3
   },
   "file_extension": ".py",
   "mimetype": "text/x-python",
   "name": "python",
   "nbconvert_exporter": "python",
   "pygments_lexer": "ipython3",
   "version": "3.9.13"
  }
 },
 "nbformat": 4,
 "nbformat_minor": 5
}
