{
 "cells": [
  {
   "cell_type": "markdown",
   "id": "a24b58d9",
   "metadata": {},
   "source": [
    "# Gradient Ascent (BiVariate)\n",
    "*****By Saideva Sathvik.R, IMSc. DataScience & Computing, SSSIHL*****"
   ]
  },
  {
   "cell_type": "code",
   "execution_count": 23,
   "id": "1c1a1027",
   "metadata": {},
   "outputs": [
    {
     "name": "stdout",
     "output_type": "stream",
     "text": [
      "Enter Initial Point 1 (x1) :1\n",
      "Enter Initial Point 2 (x2) :1\n",
      "Enter Step Size (rk) :0.25\n",
      "Enter no. of iterations :8\n",
      "\n",
      "Iteration 0\n",
      "Grad f at x1=1.0 and x2=1.0 is : [-2.  0.]\n",
      "\n",
      "\n",
      "Iteration 1\n",
      "Grad f at x1=0.5 and x2=1.0 is : [0. 1.]\n",
      "\n",
      "\n",
      "Iteration 2\n",
      "Grad f at x1=0.5 and x2=1.25 is : [-0.5  0. ]\n",
      "\n",
      "\n",
      "Iteration 3\n",
      "Grad f at x1=0.375 and x2=1.25 is : [0.   0.25]\n",
      "\n",
      "\n",
      "Iteration 4\n",
      "Grad f at x1=0.375 and x2=1.3125 is : [-0.125  0.   ]\n",
      "\n",
      "\n",
      "After Gradient Ascent :\n",
      "\n",
      "Critical Points(X*) : [0.34375 1.3125 ]\n",
      "\n",
      " f(X*) =  4.666015625\n"
     ]
    }
   ],
   "source": [
    "import numpy as np\n",
    "\n",
    "def f(ip):\n",
    "    return 4*ip[0]+6*ip[1]-2*(ip[0])**2-2*ip[0]*ip[1]-2*(ip[1])**2\n",
    "\n",
    "def gradf(ip):\n",
    "    return np.array([4-4*ip[0]-2*ip[1], 6-2*ip[0]-4*ip[1]])\n",
    "\n",
    "ip1 = float(input(\"Enter Initial Point 1 (x1) :\"))\n",
    "ip2 = float(input(\"Enter Initial Point 2 (x2) :\"))\n",
    "\n",
    "ip = np.array([ip1,ip2])\n",
    "\n",
    "step = float(input(\"Enter Step Size (rk) :\"))\n",
    "itr = int(input(\"Enter no. of iterations :\"))\n",
    "n = itr\n",
    "\n",
    "x1 = np.array([0,0])\n",
    "err = np.array([0.0000,0.0625])\n",
    "\n",
    "while(itr):\n",
    "    \n",
    "    if(not np.allclose(gradf(ip), err, rtol=0.0001, atol=0.0001, equal_nan=False)):\n",
    "        print(\"\\nIteration\",abs(itr-n))\n",
    "        print(f\"Grad f at x1={ip[0]} and x2={ip[1]} is : {gradf(ip)}\\n\")\n",
    "        x1 = ip + step*gradf(ip)\n",
    "        #print(\"x1 at itr\",abs(itr-n),x1)\n",
    "        ip = x1\n",
    "        itr = itr-1\n",
    "        \n",
    "    else:\n",
    "        break\n",
    "\n",
    "        \n",
    "print(\"\\nAfter Gradient Ascent :\\n\")\n",
    "print(\"Critical Points(X*) :\",ip)\n",
    "print(\"\\n f(X*) = \",f(ip))\n"
   ]
  },
  {
   "cell_type": "code",
   "execution_count": null,
   "id": "b713836e",
   "metadata": {},
   "outputs": [],
   "source": []
  }
 ],
 "metadata": {
  "kernelspec": {
   "display_name": "Python 3 (ipykernel)",
   "language": "python",
   "name": "python3"
  },
  "language_info": {
   "codemirror_mode": {
    "name": "ipython",
    "version": 3
   },
   "file_extension": ".py",
   "mimetype": "text/x-python",
   "name": "python",
   "nbconvert_exporter": "python",
   "pygments_lexer": "ipython3",
   "version": "3.9.13"
  }
 },
 "nbformat": 4,
 "nbformat_minor": 5
}
