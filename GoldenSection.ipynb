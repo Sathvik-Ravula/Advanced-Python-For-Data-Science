{
 "cells": [
  {
   "cell_type": "markdown",
   "id": "fb27c01f",
   "metadata": {},
   "source": [
    "# Golden Section Method"
   ]
  },
  {
   "cell_type": "code",
   "execution_count": 17,
   "id": "a41a378b",
   "metadata": {},
   "outputs": [
    {
     "name": "stdout",
     "output_type": "stream",
     "text": [
      "Enter No. Of Iterations: 8\n",
      "enter xl value :0\n",
      "enter xr value :3\n",
      "enter error value :0.1\n",
      "itr =  7\n",
      "xl =  1.146\n",
      "xr =  3\n",
      "itr =  6\n",
      "xl =  1.854228\n",
      "xr =  3\n",
      "itr =  5\n",
      "xl =  1.854228\n",
      "xr =  2.562315096\n",
      "itr =  4\n",
      "xl =  1.854228\n",
      "xr =  2.291825825328\n",
      "itr =  3\n",
      "xl =  1.854228\n",
      "xr =  2.124663456052704\n",
      "itr =  2\n",
      "xl =  1.957534344212133\n",
      "xr =  2.124663456052704\n",
      "itr =  1\n",
      "xl =  1.957534344212133\n",
      "xr =  2.060820135329606\n",
      "itr =  0\n",
      "xl =  1.9969895164190077\n",
      "xr =  2.060820135329606\n",
      "After Golden Section :\n",
      "\n",
      "The Extrema Point = \n",
      " 2.021364963122731\n",
      "f(x) at Extrema Point = \n",
      " 5.992878345625756\n"
     ]
    }
   ],
   "source": [
    "def f(x):\n",
    "    if x >= 0 and x <= 2:\n",
    "        return 3*x\n",
    "    elif x >= 2 and x <= 3:\n",
    "        return 1/3*(-x+20)\n",
    "    else:\n",
    "        print(\"Out Of Bounds\")\n",
    "        \n",
    "itr = int(input(\"Enter No. Of Iterations: \"))\n",
    "xl = int(input(\"enter xl value :\"))\n",
    "xr = int(input(\"enter xr value :\"))\n",
    "err = float(input(\"enter error value :\"))\n",
    "\n",
    "while(itr):\n",
    "    if (err < abs(xl-xr)):\n",
    "        x1 = xr - 0.618 * (xr-xl)\n",
    "        x2 = xl + 0.618 * (xr-xl)\n",
    "    \n",
    "        f1 = float(f(x1))\n",
    "        f2 = float(f(x2))\n",
    "    \n",
    "        if f1>f2:\n",
    "            xr = x2\n",
    "        \n",
    "        elif f1<f2:\n",
    "            xl = x1\n",
    "        \n",
    "        else:\n",
    "            xl = x1\n",
    "            xr = x2\n",
    "        \n",
    "        itr = itr-1\n",
    "        print(\"itr = \",itr)\n",
    "        print(\"xl = \",xl)\n",
    "        print(\"xr = \",xr)\n",
    "        \n",
    "    else:\n",
    "        break\n",
    "    \n",
    "print(\"After Golden Section :\\n\")\n",
    "fl = f(x1)\n",
    "fr = f(x2)\n",
    "\n",
    "if fl>fr:\n",
    "    print(\"The Extrema Point = \\n\",x1)\n",
    "    print(\"f(x) at Extrema Point = \\n\",fl)\n",
    "    \n",
    "else:\n",
    "    print(\"The Extrema Point = \\n\",x2)\n",
    "    print(\"f(x) at Extrema Point = \\n\",fr)"
   ]
  }
 ],
 "metadata": {
  "kernelspec": {
   "display_name": "Python 3 (ipykernel)",
   "language": "python",
   "name": "python3"
  },
  "language_info": {
   "codemirror_mode": {
    "name": "ipython",
    "version": 3
   },
   "file_extension": ".py",
   "mimetype": "text/x-python",
   "name": "python",
   "nbconvert_exporter": "python",
   "pygments_lexer": "ipython3",
   "version": "3.9.13"
  }
 },
 "nbformat": 4,
 "nbformat_minor": 5
}
